{
 "cells": [
  {
   "cell_type": "code",
   "execution_count": 1,
   "metadata": {},
   "outputs": [],
   "source": [
    "import numpy as np\n",
    "import matplotlib.pyplot as plt\n",
    "import scipy as sp\n",
    "%matplotlib inline"
   ]
  },
  {
   "cell_type": "markdown",
   "metadata": {},
   "source": [
    "# Simulating the Mechanical Chaotic Oscillator\n",
    "\n",
    "The Newton's Second Law equation of motion is\n",
    "$$\n",
    "\\dot{\\omega}_{\\phi} = \\frac{\\mu}{I}\\left [ B_{field} \\sin \\phi + \n",
    "B_{drive} \\cos \\phi \\sin \\omega_d t \\right ] - \\frac{\\beta \n",
    "\\omega_{\\phi}}{I}\n",
    "$$\n",
    "\n",
    "When the amplitudes are small $\\sin \\phi \\approx \\phi$, then for the undriven, undampled oscillator the equation of motion is that for simple harmonic motion\n",
    "\n",
    "$$\n",
    "\\dot{\\omega}_{\\phi} = \\frac{\\mu B_{field}}{I} \\phi\n",
    "$$\n",
    "\n",
    "I define $\\omega_0^2 = \\frac{\\mu B_{field}}{I} \\phi$, then the equation of the MCO can be written\n",
    "\n",
    "$$\n",
    "\\dot{\\omega}_{\\phi} = \\omega_0^2 \\left [\n",
    "\\sin \\phi + \\frac{B_{field}}{B_{drive}} \\cos \\phi \\sin \\omega_d t \\right ] \n",
    "- \\frac{\\beta \\omega_{\\phi}}{I}\n",
    "$$\n",
    "\n",
    "\n",
    "# Define Global Constants"
   ]
  },
  {
   "cell_type": "code",
   "execution_count": 9,
   "metadata": {},
   "outputs": [
    {
     "name": "stdout",
     "output_type": "stream",
     "text": [
      "Moment of inertia = 1.2e-08\n"
     ]
    }
   ],
   "source": [
    "# I for disk with density 2.7\n",
    "I_ROTOR = 0.5 * (2.7 * np.pi * 0.025**2 * 0.007) * 0.025**2\n",
    "\n",
    "# print Globals\n",
    "print(\"Moment of inertia = {:.2g}\".format(I_ROTOR))"
   ]
  },
  {
   "cell_type": "code",
   "execution_count": null,
   "metadata": {},
   "outputs": [],
   "source": []
  }
 ],
 "metadata": {
  "kernelspec": {
   "display_name": "Python 2",
   "language": "python",
   "name": "python2"
  },
  "language_info": {
   "codemirror_mode": {
    "name": "ipython",
    "version": 2
   },
   "file_extension": ".py",
   "mimetype": "text/x-python",
   "name": "python",
   "nbconvert_exporter": "python",
   "pygments_lexer": "ipython2",
   "version": "2.7.15"
  }
 },
 "nbformat": 4,
 "nbformat_minor": 2
}
