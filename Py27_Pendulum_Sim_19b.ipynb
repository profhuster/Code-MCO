{
 "cells": [
  {
   "cell_type": "code",
   "execution_count": 1,
   "metadata": {},
   "outputs": [],
   "source": [
    "import numpy as np\n",
    "import matplotlib.pyplot as plt\n",
    "from scipy.integrate import solve_ivp\n",
    "%matplotlib inline"
   ]
  },
  {
   "cell_type": "code",
   "execution_count": 23,
   "metadata": {},
   "outputs": [],
   "source": [
    "# From https://pundit.pratt.duke.edu/wiki/Python:Ordinary_Differential_Equations/Examples\n",
    "def state_plotter(times, states, fig_num):\n",
    "    num_states = np.shape(states)[0]\n",
    "    num_cols = int(np.ceil(np.sqrt(num_states)))\n",
    "    num_rows = int(np.ceil(num_states / num_cols))\n",
    "    plt.figure(fig_num, figsize=(12,6))\n",
    "    plt.clf()\n",
    "    fig, ax = plt.subplots(num_rows, num_cols, num=fig_num, clear=True,\n",
    "                         squeeze=False)\n",
    "    for n in range(num_states):\n",
    "        row = n // num_cols\n",
    "        col = n % num_cols\n",
    "        ax[row][col].plot(times, states[n], 'k,')\n",
    "        ax[row][col].set(xlabel='Time',\n",
    "                         ylabel='$y_{:0.0f}(t)$'.format(n),\n",
    "                         title='$y_{:0.0f}(t)$ vs. Time'.format(n))\n",
    "        \n",
    "    for n in range(num_states, num_rows * num_cols):\n",
    "        fig.delaxes(ax[n // num_cols][n % num_cols])\n",
    "\n",
    "    fig.tight_layout()"
   ]
  },
  {
   "cell_type": "markdown",
   "metadata": {},
   "source": [
    "# MCO\n",
    "\n",
    "The Newton's Second Law equation of motion is\n",
    "$$\n",
    "\\dot{\\omega}_{\\phi} = \\frac{\\mu}{I}\\left [ B_{field} \\sin \\phi + \n",
    "B_{drive} \\cos \\phi \\sin \\omega_d t \\right ] - \\frac{\\beta \n",
    "\\omega_{\\phi}}{I}\n",
    "$$\n",
    "\n",
    "When the amplitudes are small $\\sin \\phi \\approx \\phi$, then for the undriven, undampled oscillator the equation of motion is that for simple harmonic motion\n",
    "\n",
    "$$\n",
    "\\dot{\\omega}_{\\phi} = \\frac{\\mu B_{field}}{I} \\phi\n",
    "$$\n",
    "\n",
    "I define $\\omega_0^2 = \\frac{\\mu B_{field}}{I} \\phi$, $b = \\frac{B_{field}}{B_{drive}}$ and \n",
    "$\\gamma = \\frac{\\beta}{I}$,\n",
    "then the equation of the MCO can be written\n",
    "\n",
    "$$\n",
    "\\dot{\\omega}_{\\phi} = \\omega_0^2 \\left [\n",
    "\\sin \\phi + b \\cos \\phi \\sin \\omega_d t \\right ] \n",
    "- \\gamma \\omega_{\\phi}\n",
    "$$\n",
    "\n",
    "with \n",
    "\n",
    "$$\n",
    "\\omega_{\\phi} = \\dot{\\phi}\n",
    "$$\n",
    "\n",
    "\n",
    "# Define Global Constants"
   ]
  },
  {
   "cell_type": "code",
   "execution_count": 26,
   "metadata": {},
   "outputs": [],
   "source": [
    "OMEGA_0 = 1.0\n",
    "OMEGA_0_SQ = OMEGA_0**2\n",
    "b = 0.01\n",
    "OMEGA_D = 0.9 * OMEGA_0\n",
    "GAMMA = 0.01"
   ]
  },
  {
   "cell_type": "markdown",
   "metadata": {},
   "source": [
    "# Define ODE Derivative Function"
   ]
  },
  {
   "cell_type": "code",
   "execution_count": 11,
   "metadata": {},
   "outputs": [],
   "source": [
    "# %% Define derivative function\n",
    "\n",
    "def f(t, y):\n",
    "    # t = time\n",
    "    # y[0] = phi\n",
    "    # y[1] = omega\n",
    "    global OMEGA_0_SQ, b, OMEGA_D, GAMMA\n",
    "    phiDot = y[1]\n",
    "    omegaDot = OMEGA_0_SQ * (np.sin(y[0]) + b * np.cos(y[0]) * np.sin(OMEGA_D * t)) - GAMMA * y[1]\n",
    "    return np.array((phiDot, omegaDot))"
   ]
  },
  {
   "cell_type": "markdown",
   "metadata": {},
   "source": [
    "# Initialize, Run, and Plot"
   ]
  },
  {
   "cell_type": "code",
   "execution_count": 79,
   "metadata": {},
   "outputs": [
    {
     "name": "stdout",
     "output_type": "stream",
     "text": [
      "CPU times: user 4min 25s, sys: 5.65 s, total: 4min 31s\n",
      "Wall time: 4min 30s\n"
     ]
    },
    {
     "data": {
      "image/png": "[encoded data removed]",
      "text/plain": [
       "<Figure size 864x432 with 2 Axes>"
      ]
     },
     "metadata": {
      "needs_background": "light"
     },
     "output_type": "display_data"
    }
   ],
   "source": [
    "%%time\n",
    "# Globals\n",
    "OMEGA_0 = 1.0\n",
    "OMEGA_0_SQ = OMEGA_0**2\n",
    "b = 0.0\n",
    "OMEGA_D = 0.9 * OMEGA_0\n",
    "GAMMA = 0.0\n",
    "\n",
    "# Initialize\n",
    "nPoints = 1000000\n",
    "DT = 0.1\n",
    "DT2 = DT * DT\n",
    "t = np.arange(0, nPoints * DT, DT)\n",
    "yinit = np.array([0.1 * np.pi, 0.0])\n",
    "\n",
    "# Run\n",
    "sol = solve_ivp(lambda t, y: f(t, y), \n",
    "                [t[0], t[-1]], yinit, t_eval=t, method='Radau')\n",
    "\n",
    "# Plot\n",
    "state_plotter(sol.t, sol.y, 1)"
   ]
  },
  {
   "cell_type": "markdown",
   "metadata": {},
   "source": [
    "# Phase Plot"
   ]
  },
  {
   "cell_type": "code",
   "execution_count": 80,
   "metadata": {},
   "outputs": [
    {
     "name": "stdout",
     "output_type": "stream",
     "text": [
      "CPU times: user 135 ms, sys: 28.1 ms, total: 163 ms\n",
      "Wall time: 65 ms\n"
     ]
    },
    {
     "data": {
      "image/png": "[encoded data removed]",
      "text/plain": [
       "<Figure size 648x648 with 1 Axes>"
      ]
     },
     "metadata": {
      "needs_background": "light"
     },
     "output_type": "display_data"
    }
   ],
   "source": [
    "%%time\n",
    "fig = plt.figure(figsize=(9,9))\n",
    "ax = fig.add_subplot(111)\n",
    "ax.plot(sol.y[0], sol.y[1], 'k,')\n",
    "ax.set_xlabel('$\\phi$')\n",
    "ax.set_ylabel('$\\omega_{\\phi}$')"
   ]
  },
  {
   "cell_type": "markdown",
   "metadata": {},
   "source": [
    "# Velocity Verlet Integration"
   ]
  },
  {
   "cell_type": "code",
   "execution_count": 65,
   "metadata": {},
   "outputs": [],
   "source": [
    "def velocityVerlet(i, y, t):\n",
    "    accHalfHalf = 0.5 * OMEGA_0_SQ * (np.sin(y[0,i]) + b * np.cos(y[0,i]) * np.sin(OMEGA_D * t[i])) - GAMMA * y[1,i]\n",
    "    y[0,i+1] = y[0,i] + y[1,i] * DT + accHalfHalf * DT2\n",
    "    accFullHalf = 0.5 * OMEGA_0_SQ * (np.sin(y[0,i+1]) + b * np.cos(y[0,i+1]) * np.sin(OMEGA_D * t[i+1])) - \\\n",
    "      GAMMA * y[1,i]\n",
    "    y[1,i+1] = y[1,i] + (accHalfHalf + accFullHalf) * DT"
   ]
  },
  {
   "cell_type": "code",
   "execution_count": 77,
   "metadata": {},
   "outputs": [
    {
     "name": "stdout",
     "output_type": "stream",
     "text": [
      "CPU times: user 15.5 s, sys: 265 ms, total: 15.8 s\n",
      "Wall time: 15.1 s\n"
     ]
    },
    {
     "data": {
      "image/png": "[encoded data removed]",
      "text/plain": [
       "<Figure size 864x432 with 2 Axes>"
      ]
     },
     "metadata": {
      "needs_background": "light"
     },
     "output_type": "display_data"
    }
   ],
   "source": [
    "%%time\n",
    "# Globals\n",
    "OMEGA_0 = 1.0\n",
    "OMEGA_0_SQ = OMEGA_0**2\n",
    "b = 0.0\n",
    "OMEGA_D = 0.9 * OMEGA_0\n",
    "GAMMA = 0.0\n",
    "\n",
    "# Initialize\n",
    "nPoints = 1000000\n",
    "DT = 0.1\n",
    "DT2 = DT * DT\n",
    "t = np.arange(0, nPoints * DT, DT)\n",
    "yinit = np.array([0.1 * np.pi, 0.0])\n",
    "y = np.zeros((2,nPoints), dtype='float64')\n",
    "y[0,0] = yinit[0]\n",
    "y[0,1] = yinit[1]\n",
    "\n",
    "# Run\n",
    "for i in xrange(nPoints-1):\n",
    "    velocityVerlet(i, y, t)\n",
    "# Plot\n",
    "state_plotter(t, y, 1)"
   ]
  },
  {
   "cell_type": "code",
   "execution_count": 78,
   "metadata": {},
   "outputs": [
    {
     "data": {
      "text/plain": [
       "Text(0,0.5,'$\\\\omega_{\\\\phi}$')"
      ]
     },
     "execution_count": 78,
     "metadata": {},
     "output_type": "execute_result"
    },
    {
     "data": {
      "image/png": "[encoded data removed]",
      "text/plain": [
       "<Figure size 648x648 with 1 Axes>"
      ]
     },
     "metadata": {
      "needs_background": "light"
     },
     "output_type": "display_data"
    }
   ],
   "source": [
    "fig = plt.figure(figsize=(9,9))\n",
    "ax = fig.add_subplot(111)\n",
    "ax.plot(y[0], y[1], 'k,')\n",
    "ax.set_xlabel('$\\phi$')\n",
    "ax.set_ylabel('$\\omega_{\\phi}$')"
   ]
  },
  {
   "cell_type": "code",
   "execution_count": null,
   "metadata": {},
   "outputs": [],
   "source": []
  }
 ],
 "metadata": {
  "kernelspec": {
   "display_name": "Python 2",
   "language": "python",
   "name": "python2"
  },
  "language_info": {
   "codemirror_mode": {
    "name": "ipython",
    "version": 2
   },
   "file_extension": ".py",
   "mimetype": "text/x-python",
   "name": "python",
   "nbconvert_exporter": "python",
   "pygments_lexer": "ipython2",
   "version": "2.7.15"
  }
 },
 "nbformat": 4,
 "nbformat_minor": 2
}
