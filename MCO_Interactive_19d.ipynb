{
 "cells": [
  {
   "cell_type": "markdown",
   "metadata": {},
   "source": [
    "# Interactive Integration of the MCO\n",
    "## For the Mechanical Chaotic Oscillator\n",
    "```\n",
    "Michael Huster\n",
    "Duquesne University\n",
    "profhuster@gmail.com\n",
    "2019-07-10\n",
    "```"
   ]
  },
  {
   "cell_type": "code",
   "execution_count": 1,
   "metadata": {},
   "outputs": [],
   "source": [
    "import numpy as np\n",
    "import matplotlib.pyplot as plt\n",
    "from ipywidgets import interact\n",
    "import numba\n",
    "%matplotlib inline"
   ]
  },
  {
   "cell_type": "code",
   "execution_count": 2,
   "metadata": {},
   "outputs": [],
   "source": [
    "# From https://pundit.pratt.duke.edu/wiki/Python:Ordinary_Differential_Equations/Examples\n",
    "def state_plotter(times, states, fig_num):\n",
    "    num_states = np.shape(states)[0]\n",
    "    num_cols = int(np.ceil(np.sqrt(num_states)))\n",
    "    num_rows = int(np.ceil(num_states / num_cols))\n",
    "    plt.figure(fig_num, figsize=(12,6))\n",
    "    plt.clf()\n",
    "    fig, ax = plt.subplots(num_rows, num_cols, num=fig_num, clear=True,\n",
    "                         squeeze=False)\n",
    "    for n in range(num_states):\n",
    "        row = n // num_cols\n",
    "        col = n % num_cols\n",
    "        ax[row][col].plot(times, states[n], 'b,')\n",
    "        ax[row][col].set(xlabel='Time',\n",
    "                         ylabel='$y_{:0.0f}(t)$'.format(n),\n",
    "                         title='$y_{:0.0f}(t)$ vs. Time'.format(n))\n",
    "        \n",
    "    for n in range(num_states, num_rows * num_cols):\n",
    "        fig.delaxes(ax[n // num_cols][n % num_cols])\n",
    "\n",
    "    fig.tight_layout()\n",
    "    return fig"
   ]
  },
  {
   "cell_type": "markdown",
   "metadata": {},
   "source": [
    "# MCO - Mechanical Chaotic Oscillator\n",
    "## Numerical Integration\n",
    "\n",
    "The Newton's Second Law equation of motion are\n",
    "\n",
    "$$\n",
    "\\omega_{\\phi} = \\dot{\\phi}\n",
    "$$\n",
    "\n",
    "and\n",
    "\n",
    "$$\n",
    "\\dot{\\omega}_{\\phi} = -\\frac{\\mu}{I}\\left [ B_{field} \\sin \\phi + \n",
    "B_{drive} \\cos \\phi \\sin \\omega_d t \\right ] - \\frac{\\beta \n",
    "\\omega_{\\phi}}{I}\n",
    "$$\n",
    "\n",
    "I define $\\omega_0^2 = \\frac{\\mu B_{field}}{I}$, $b = \\frac{B_{drive}}{B_{field}}$ and \n",
    "$\\gamma = \\frac{\\beta}{I}$,\n",
    "then the equation of the MCO can be written\n",
    "\n",
    "$$\n",
    "\\dot{\\omega}_{\\phi} = -\\omega_0^2 \\left [\n",
    "\\sin \\phi + b \\cos \\phi \\sin \\omega_d t \\right ] \n",
    "- \\gamma \\omega_{\\phi}\n",
    "$$"
   ]
  },
  {
   "cell_type": "markdown",
   "metadata": {},
   "source": [
    "# Global Integration Parameters"
   ]
  },
  {
   "cell_type": "code",
   "execution_count": 3,
   "metadata": {},
   "outputs": [
    {
     "name": "stdout",
     "output_type": "stream",
     "text": [
      "Tdr=7.8540e+00s, DT=2.6180e-01s, nP=3000, Osq=1.0000e+00\n"
     ]
    }
   ],
   "source": [
    "# Globals\n",
    "N_CYCLES = 100\n",
    "POINTS_PER_CYCLE = 30\n",
    "OMEGA_0 = 1.0\n",
    "OMEGA_D = 0.8 * OMEGA_0\n",
    "b = 0.0\n",
    "GAMMA = 0.00\n",
    "PHI0 = 0.1 * np.pi\n",
    "\n",
    "# Derived globals\n",
    "nPoints = N_CYCLES * POINTS_PER_CYCLE\n",
    "\n",
    "T_DRIVE = 2.0 * np.pi / OMEGA_D\n",
    "DT = T_DRIVE / POINTS_PER_CYCLE\n",
    "DT2 = DT * DT\n",
    "\n",
    "OMEGA_0_SQ = OMEGA_0**2\n",
    "print(f\"Tdr={T_DRIVE:.4e}s, DT={DT:.4e}s, nP={nPoints}, Osq={OMEGA_0_SQ:.4e}\")"
   ]
  },
  {
   "cell_type": "markdown",
   "metadata": {},
   "source": [
    "# Velocity Verlet Integration"
   ]
  },
  {
   "cell_type": "code",
   "execution_count": 7,
   "metadata": {},
   "outputs": [],
   "source": [
    "@numba.jit\n",
    "def velocityVerlet(i, y, t):\n",
    "    accHalf = -OMEGA_0_SQ * (np.sin(y[0,i]) + b * np.cos(y[0,i]) * np.sin(OMEGA_D * t[i])) - \\\n",
    "      GAMMA * y[1,i]\n",
    "    y[0,i+1] = y[0,i] + y[1,i] * DT + 0.5 * accHalf * DT2\n",
    "    accFull = -OMEGA_0_SQ * (np.sin(y[0,i+1]) + b * np.cos(y[0,i+1]) * np.sin(OMEGA_D * t[i+1])) - \\\n",
    "      GAMMA * y[1,i]\n",
    "    y[1,i+1] = y[1,i] + 0.5 * (accHalf + accFull) * DT"
   ]
  },
  {
   "cell_type": "code",
   "execution_count": 12,
   "metadata": {},
   "outputs": [],
   "source": [
    "y=0\n",
    "t=0\n",
    "\n",
    "#@numba.jit(nopython=True)\n",
    "def modelMCO(nCycles=10, log10Gamma=-6.0, log10B=-6):\n",
    "    global t, y, DT, OMEGA_0_SQ, b, OMEGA_D, GAMMA, PHI0, POINTS_PER_CYCLE\n",
    "    # Use function parameters\n",
    "    nPoints = nCycles * POINTS_PER_CYCLE\n",
    "    if log10Gamma <= -5.99:\n",
    "        GAMMA = 0.0\n",
    "    else:\n",
    "        GAMMA = 10.0**log10Gamma\n",
    "    if log10B <= -5.99:\n",
    "        b = 0.0\n",
    "    else:\n",
    "        b = 10.0**log10B\n",
    "\n",
    "    t = np.arange(0, nPoints * DT, DT)\n",
    "    #print(t, t[-1]+DT)\n",
    "    y = np.zeros((2,nPoints), dtype='float64')\n",
    "    y[0,0] = PHI0\n",
    "    y[0,1] = 0.0\n",
    "\n",
    "    # Run\n",
    "    for i in range(nPoints-1):\n",
    "        velocityVerlet(i, y, t)\n",
    "\n",
    "    fig = plt.figure(figsize=(6,6))\n",
    "    ax = fig.add_subplot(111)\n",
    "    ax.plot((y[0]+np.pi)%(2*np.pi), y[1], 'b,')\n",
    "    ax.plot((y[0,0:nPoints:POINTS_PER_CYCLE]+np.pi)%(2*np.pi), y[1,0:nPoints:POINTS_PER_CYCLE], 'k.', ms=2.0)\n",
    "    ax.plot(ax.get_xlim(),(0,0), 'r-', lw=0.5)\n",
    "    ax.plot((np.pi,np.pi),ax.get_ylim(), 'r-', lw=0.5)\n",
    "    ax.axis('equal')\n",
    "    ax.set_xlabel('$\\phi$')\n",
    "    ax.set_ylabel('$\\omega_{\\phi}$')\n",
    "    ax.set_title(\"Ncycles={}, $\\gamma$={}, b={}, Od/Os={:.2f}\".format(nCycles, GAMMA, b, OMEGA_D/OMEGA_0))\n",
    "    # xText = ax.get_xlim()[1]\n",
    "    # yText = ax.get_ylim()[1]\n",
    "    # ax.text(xText, yText,'Hello')\n",
    "    plt.show()"
   ]
  },
  {
   "cell_type": "code",
   "execution_count": 13,
   "metadata": {},
   "outputs": [
    {
     "name": "stdout",
     "output_type": "stream",
     "text": [
      "CPU times: user 3 µs, sys: 1e+03 ns, total: 4 µs\n",
      "Wall time: 8.11 µs\n"
     ]
    },
    {
     "data": {
      "image/png": "[encoded data removed]",
      "text/plain": [
       "<Figure size 432x432 with 1 Axes>"
      ]
     },
     "metadata": {
      "needs_background": "light"
     },
     "output_type": "display_data"
    }
   ],
   "source": [
    "%time\n",
    "jnk = modelMCO()"
   ]
  },
  {
   "cell_type": "code",
   "execution_count": 14,
   "metadata": {},
   "outputs": [
    {
     "data": {
      "application/vnd.jupyter.widget-view+json": {
       "model_id": "d71887cec26b4e7e8a3f1b6e20697c16",
       "version_major": 2,
       "version_minor": 0
      },
      "text/plain": [
       "interactive(children=(IntSlider(value=10, description='nCycles', max=10000, min=1), IntSlider(value=-6, descri…"
      ]
     },
     "metadata": {},
     "output_type": "display_data"
    }
   ],
   "source": [
    "# Interactive call\n",
    "interact(modelMCO, nCycles=(1,10000), log10Gamma=(-6,1), log10B=(-6,1));"
   ]
  },
  {
   "cell_type": "code",
   "execution_count": 9,
   "metadata": {},
   "outputs": [
    {
     "data": {
      "image/png": "[encoded data removed]",
      "text/plain": [
       "<Figure size 864x432 with 2 Axes>"
      ]
     },
     "execution_count": 9,
     "metadata": {},
     "output_type": "execute_result"
    },
    {
     "data": {
      "image/png": "[encoded data removed]",
      "text/plain": [
       "<Figure size 864x432 with 2 Axes>"
      ]
     },
     "metadata": {
      "needs_background": "light"
     },
     "output_type": "display_data"
    }
   ],
   "source": [
    "state_plotter(t, y, 1)"
   ]
  },
  {
   "cell_type": "markdown",
   "metadata": {},
   "source": [
    "# Euler-Cromer (Symplectic Euler)"
   ]
  },
  {
   "cell_type": "code",
   "execution_count": 10,
   "metadata": {},
   "outputs": [],
   "source": [
    "def symEuler(i, y, t):\n",
    "    # Update p\n",
    "    # For this system, I can solve the implicit equation for omega[i+1]\n",
    "    y[1,i+1] = y[1,i] * (1.0 - GAMMA * DT) - \\\n",
    "        DT * OMEGA_0_SQ * (np.sin(y[0,i]) + b * np.cos(y[0,i]) * np.sin(OMEGA_D * t[i]))\n",
    "    y[0,i+1] = y[0,i] + DT * y[1,i+1]"
   ]
  },
  {
   "cell_type": "code",
   "execution_count": null,
   "metadata": {},
   "outputs": [],
   "source": []
  }
 ],
 "metadata": {
  "kernelspec": {
   "display_name": "Python 3",
   "language": "python",
   "name": "python3"
  },
  "language_info": {
   "codemirror_mode": {
    "name": "ipython",
    "version": 3
   },
   "file_extension": ".py",
   "mimetype": "text/x-python",
   "name": "python",
   "nbconvert_exporter": "python",
   "pygments_lexer": "ipython3",
   "version": "3.7.3"
  }
 },
 "nbformat": 4,
 "nbformat_minor": 4
}
