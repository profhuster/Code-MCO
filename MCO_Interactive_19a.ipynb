{
 "cells": [
  {
   "cell_type": "markdown",
   "metadata": {},
   "source": [
    "# Interactive Integration of the MCO\n",
    "## For the Mechanical Chaotic Oscillator\n",
    "```\n",
    "Michael Huster\n",
    "Duquesne University\n",
    "profhuster@gmail.com\n",
    "2019-07-10\n",
    "```"
   ]
  },
  {
   "cell_type": "code",
   "execution_count": 1,
   "metadata": {},
   "outputs": [],
   "source": [
    "import numpy as np\n",
    "import matplotlib.pyplot as plt\n",
    "from ipywidgets import interact\n",
    "%matplotlib inline"
   ]
  },
  {
   "cell_type": "markdown",
   "metadata": {},
   "source": [
    "# MCO - Mechanical Chaotic Oscillator\n",
    "## Numerical Integration\n",
    "\n",
    "The Newton's Second Law equation of motion are\n",
    "\n",
    "$$\n",
    "\\omega_{\\phi} = \\dot{\\phi}\n",
    "$$\n",
    "\n",
    "and\n",
    "\n",
    "$$\n",
    "\\dot{\\omega}_{\\phi} = -\\frac{\\mu}{I}\\left [ B_{field} \\sin \\phi + \n",
    "B_{drive} \\cos \\phi \\sin \\omega_d t \\right ] - \\frac{\\beta \n",
    "\\omega_{\\phi}}{I}\n",
    "$$\n",
    "\n",
    "I define $\\omega_0^2 = \\frac{\\mu B_{field}}{I}$, $b = \\frac{B_{drive}}{B_{field}}$ and \n",
    "$\\gamma = \\frac{\\beta}{I}$,\n",
    "then the equation of the MCO can be written\n",
    "\n",
    "$$\n",
    "\\dot{\\omega}_{\\phi} = -\\omega_0^2 \\left [\n",
    "\\sin \\phi + b \\cos \\phi \\sin \\omega_d t \\right ] \n",
    "- \\gamma \\omega_{\\phi}\n",
    "$$"
   ]
  },
  {
   "cell_type": "markdown",
   "metadata": {},
   "source": [
    "# Global Integration Parameters"
   ]
  },
  {
   "cell_type": "code",
   "execution_count": 2,
   "metadata": {},
   "outputs": [],
   "source": [
    "nPoints = 10000\n",
    "DT = 0.1\n",
    "DT2 = DT * DT\n",
    "PHI0 = 1.01 * np.pi\n",
    "\n",
    "# Globals\n",
    "OMEGA_0 = 1.0\n",
    "OMEGA_0_SQ = OMEGA_0**2\n",
    "OMEGA_D = 0.9 * OMEGA_0\n",
    "GAMMA = 0.001"
   ]
  },
  {
   "cell_type": "markdown",
   "metadata": {},
   "source": [
    "# Euler-Cromer (Symplectic Euler)"
   ]
  },
  {
   "cell_type": "code",
   "execution_count": 3,
   "metadata": {},
   "outputs": [],
   "source": [
    "def symEuler(i, y, t):\n",
    "    # Update p\n",
    "    y[1,i+1] = (y[1,i] - DT * OMEGA_0_SQ * (np.sin(y[0,i]) + b * np.cos(y[0,i]) * np.sin(OMEGA_D * t[i]))) / \\\n",
    "        (1.0 + GAMMA * DT)\n",
    "    y[0,i+1] = y[0,i] + DT * y[1,i+1]"
   ]
  },
  {
   "cell_type": "code",
   "execution_count": 4,
   "metadata": {},
   "outputs": [
    {
     "data": {
      "image/png": "[encoded data removed]",
      "text/plain": [
       "<Figure size 432x432 with 1 Axes>"
      ]
     },
     "metadata": {
      "needs_background": "light"
     },
     "output_type": "display_data"
    }
   ],
   "source": [
    "def modelMCO(nPoints=100, log10Gamma=-6.0, log10B=-6):\n",
    "    GAMMA = 10.0**log10Gamma\n",
    "    b = 10.0**log10B\n",
    "    def symEuler(i, y, t):\n",
    "        # Update p\n",
    "        y[1,i+1] = (y[1,i] + DT * OMEGA_0_SQ * (np.sin(y[0,i]) + b * np.cos(y[0,i]) * np.sin(OMEGA_D * t[i]))) / \\\n",
    "            (1.0 + GAMMA * DT)\n",
    "        y[0,i+1] = y[0,i] + DT * y[1,i+1]    # Initialize\n",
    "    t = np.arange(0, nPoints * DT, DT)\n",
    "    yinit = np.array([PHI0, 0.0])\n",
    "    y = np.zeros((2,nPoints), dtype='float64')\n",
    "    y[0,0] = yinit[0]\n",
    "    y[0,1] = yinit[1]\n",
    "\n",
    "    # Run\n",
    "    for i in range(nPoints-1):\n",
    "        symEuler(i, y, t)\n",
    "\n",
    "    fig = plt.figure(figsize=(6,6))\n",
    "    ax = fig.add_subplot(111)\n",
    "    ax.plot(y[0]%(2*np.pi), y[1], 'b,')\n",
    "    ax.set_xlabel('$\\phi$')\n",
    "    ax.set_ylabel('$\\omega_{\\phi}$')\n",
    "    ax.set_title(\"N={}, $\\gamma$={}, b={}\".format(nPoints, 10**log10Gamma, 10**log10B))\n",
    "    plt.show()\n",
    "    \n",
    "modelMCO(100)"
   ]
  },
  {
   "cell_type": "code",
   "execution_count": 5,
   "metadata": {},
   "outputs": [],
   "source": [
    "# From https://pundit.pratt.duke.edu/wiki/Python:Ordinary_Differential_Equations/Examples\n",
    "def state_plotter(times, states, fig_num):\n",
    "    num_states = np.shape(states)[0]\n",
    "    num_cols = int(np.ceil(np.sqrt(num_states)))\n",
    "    num_rows = int(np.ceil(num_states / num_cols))\n",
    "    plt.figure(fig_num, figsize=(12,6))\n",
    "    plt.clf()\n",
    "    fig, ax = plt.subplots(num_rows, num_cols, num=fig_num, clear=True,\n",
    "                         squeeze=False)\n",
    "    for n in range(num_states):\n",
    "        row = n // num_cols\n",
    "        col = n % num_cols\n",
    "        ax[row][col].plot(times, states[n], 'b,')\n",
    "        ax[row][col].set(xlabel='Time',\n",
    "                         ylabel='$y_{:0.0f}(t)$'.format(n),\n",
    "                         title='$y_{:0.0f}(t)$ vs. Time'.format(n))\n",
    "        \n",
    "    for n in range(num_states, num_rows * num_cols):\n",
    "        fig.delaxes(ax[n // num_cols][n % num_cols])\n",
    "\n",
    "    fig.tight_layout()\n",
    "    return fig"
   ]
  },
  {
   "cell_type": "code",
   "execution_count": 6,
   "metadata": {},
   "outputs": [
    {
     "data": {
      "application/vnd.jupyter.widget-view+json": {
       "model_id": "4df5fefd446f45fabe5139a496ee4a77",
       "version_major": 2,
       "version_minor": 0
      },
      "text/plain": [
       "interactive(children=(IntSlider(value=100, description='nPoints', max=10000, min=10), IntSlider(value=-6, desc…"
      ]
     },
     "metadata": {},
     "output_type": "display_data"
    }
   ],
   "source": [
    "# Interactive call\n",
    "interact(modelMCO, nPoints=(10,10000), log10Gamma=(-6,1), log10B=(-6,1));"
   ]
  },
  {
   "cell_type": "code",
   "execution_count": null,
   "metadata": {},
   "outputs": [],
   "source": [
    "np.linspace(-6,1,8)"
   ]
  },
  {
   "cell_type": "markdown",
   "metadata": {},
   "source": [
    "# Phase Plot"
   ]
  },
  {
   "cell_type": "code",
   "execution_count": null,
   "metadata": {},
   "outputs": [],
   "source": [
    "fig = plt.figure(figsize=(9,9))\n",
    "ax = fig.add_subplot(111)\n",
    "ax.plot(y[0], y[1], 'b,')\n",
    "ax.set_xlabel('$\\phi$')\n",
    "ax.set_ylabel('$\\omega_{\\phi}$')\n",
    "ax.set_title(\"Velocity Verlet\")\n",
    "fig.savefig(\"MCO_Int_SymEu2.png\")"
   ]
  },
  {
   "cell_type": "markdown",
   "metadata": {},
   "source": [
    "# Velocity Verlet Integration"
   ]
  },
  {
   "cell_type": "code",
   "execution_count": null,
   "metadata": {},
   "outputs": [],
   "source": [
    "def velocityVerlet(i, y, t):\n",
    "    accHalfHalf = 0.5 * OMEGA_0_SQ * (np.sin(y[0,i]) + b * np.cos(y[0,i]) * np.sin(OMEGA_D * t[i])) - GAMMA * y[1,i]\n",
    "    y[0,i+1] = y[0,i] + y[1,i] * DT + accHalfHalf * DT2\n",
    "    accFullHalf = 0.5 * OMEGA_0_SQ * (np.sin(y[0,i+1]) + b * np.cos(y[0,i+1]) * np.sin(OMEGA_D * t[i+1])) - \\\n",
    "      GAMMA * y[1,i]\n",
    "    y[1,i+1] = y[1,i] + (accHalfHalf + accFullHalf) * DT"
   ]
  },
  {
   "cell_type": "code",
   "execution_count": null,
   "metadata": {},
   "outputs": [],
   "source": [
    "%%time\n",
    "# Initialize\n",
    "t = np.arange(0, nPoints * DT, DT)\n",
    "yinit = np.array([PHI0, 0.0])\n",
    "y = np.zeros((2,nPoints), dtype='float64')\n",
    "y[0,0] = yinit[0]\n",
    "y[0,1] = yinit[1]\n",
    "\n",
    "# Run\n",
    "for i in range(nPoints-1):\n",
    "    velocityVerlet(i, y, t)\n",
    "# Plot\n",
    "fig = state_plotter(t, y, 1)\n",
    "fig.savefig(\"MCO_Int_VV1.png\")"
   ]
  },
  {
   "cell_type": "markdown",
   "metadata": {},
   "source": [
    "# Phase Plot"
   ]
  },
  {
   "cell_type": "code",
   "execution_count": null,
   "metadata": {},
   "outputs": [],
   "source": [
    "fig = plt.figure(figsize=(9,9))\n",
    "ax = fig.add_subplot(111)\n",
    "ax.plot(y[0], y[1], 'b,')\n",
    "ax.set_xlabel('$\\phi$')\n",
    "ax.set_ylabel('$\\omega_{\\phi}$')\n",
    "ax.set_title(\"Velocity Verlet\")\n",
    "fig.savefig(\"MCO_Int_VV2.png\")"
   ]
  },
  {
   "cell_type": "markdown",
   "metadata": {},
   "source": [
    "# Define ODE Derivative Function"
   ]
  },
  {
   "cell_type": "code",
   "execution_count": null,
   "metadata": {},
   "outputs": [],
   "source": [
    "# %% Define derivative function\n",
    "\n",
    "def f(t, y):\n",
    "    # t = time\n",
    "    # y[0] = phi\n",
    "    # y[1] = omega\n",
    "    global OMEGA_0_SQ, b, OMEGA_D, GAMMA\n",
    "    phiDot = y[1]\n",
    "    omegaDot = OMEGA_0_SQ * (np.sin(y[0]) + b * np.cos(y[0]) * np.sin(OMEGA_D * t)) - GAMMA * phiDot\n",
    "    return np.array((phiDot, omegaDot))"
   ]
  },
  {
   "cell_type": "markdown",
   "metadata": {},
   "source": [
    "# Initialize, Run, and Plot\n",
    "## (Using the Default RK45 Method)"
   ]
  },
  {
   "cell_type": "code",
   "execution_count": null,
   "metadata": {},
   "outputs": [],
   "source": [
    "%%time\n",
    "# Initialize\n",
    "t = np.arange(0, nPoints * DT, DT)\n",
    "yinit = np.array([PHI0, 0.0])\n",
    "\n",
    "# Run\n",
    "sol = solve_ivp(lambda t, y: f(t, y), \n",
    "                [t[0], t[-1]], yinit, t_eval=t, method='RK45')\n",
    "\n",
    "# Plot\n",
    "fig = state_plotter(sol.t, sol.y, 1)\n",
    "fig.savefig(\"MCO_Int_RK1.png\")"
   ]
  },
  {
   "cell_type": "code",
   "execution_count": null,
   "metadata": {},
   "outputs": [],
   "source": [
    "%%time\n",
    "fig = plt.figure(figsize=(9,9))\n",
    "ax = fig.add_subplot(111)\n",
    "ax.plot(sol.y[0]%(2*np.pi), sol.y[1], 'k,')\n",
    "ax.set_xlabel('$\\phi$')\n",
    "ax.set_ylabel('$\\omega_{\\phi}$')\n",
    "ax.set_title(\"Runge-Kutta45\")\n",
    "fig.savefig(\"MCO_Int_RK2.png\")"
   ]
  },
  {
   "cell_type": "markdown",
   "metadata": {},
   "source": [
    "# Initialize, Run, and Plot\n",
    "## (Using the Radau Method)"
   ]
  },
  {
   "cell_type": "code",
   "execution_count": null,
   "metadata": {},
   "outputs": [],
   "source": [
    "%%time\n",
    "# Initialize\n",
    "t = np.arange(0, nPoints * DT, DT)\n",
    "yinit = np.array([PHI0, 0.0])\n",
    "\n",
    "# Run\n",
    "sol = solve_ivp(lambda t, y: f(t, y), \n",
    "                [t[0], t[-1]], yinit, t_eval=t, method='Radau')\n",
    "\n",
    "# Plot\n",
    "fig = state_plotter(sol.t, sol.y, 1)\n",
    "fig.savefig(\"MCO_Int_Radau1.png\")"
   ]
  },
  {
   "cell_type": "code",
   "execution_count": null,
   "metadata": {},
   "outputs": [],
   "source": [
    "%%time\n",
    "fig = plt.figure(figsize=(9,9))\n",
    "ax = fig.add_subplot(111)\n",
    "ax.plot(sol.y[0], sol.y[1], 'k,')\n",
    "ax.set_xlabel('$\\phi$')\n",
    "ax.set_ylabel('$\\omega_{\\phi}$')\n",
    "ax.set_title(\"Radau\")\n",
    "fig.savefig(\"MCO_Int_Radau2.png\")"
   ]
  },
  {
   "cell_type": "code",
   "execution_count": null,
   "metadata": {},
   "outputs": [],
   "source": [
    "nPoints/64.0"
   ]
  },
  {
   "cell_type": "code",
   "execution_count": null,
   "metadata": {},
   "outputs": [],
   "source": []
  }
 ],
 "metadata": {
  "kernelspec": {
   "display_name": "Python 3",
   "language": "python",
   "name": "python3"
  },
  "language_info": {
   "codemirror_mode": {
    "name": "ipython",
    "version": 3
   },
   "file_extension": ".py",
   "mimetype": "text/x-python",
   "name": "python",
   "nbconvert_exporter": "python",
   "pygments_lexer": "ipython3",
   "version": "3.7.3"
  }
 },
 "nbformat": 4,
 "nbformat_minor": 2
}
